{
 "cells": [
  {
   "cell_type": "markdown",
   "metadata": {
    "id": "cd3jynF89haJ"
   },
   "source": [
    "# Evolutionary Computation - Assignment 6: Multiple start local search (MSLS) and iterated local search (ILS)\n",
    "Bartosz Stachowiak 148259<br>\n",
    "Andrzej Kajdasz 148273"
   ]
  },
  {
   "cell_type": "markdown",
   "metadata": {
    "id": "ANGmPjsk9haM"
   },
   "source": [
    "## 1. Problem Statement\n",
    "\n",
    "There are columns of integers representing nodes. Each row corresponds to a node and contains its x and y coordinates in a plane, as well as a cost associated with the node. There were 4 such data sets each consisting of 200 rows (each representing a single node).\n",
    "\n",
    "Problem to solve is to choose precisely 50% of the nodes (rounding up if there is an odd number of nodes) and create a Hamiltonian cycle (a closed path) using this subset of nodes. The goal is to minimize the combined total length of the path and the total cost of the selected nodes.\n",
    "\n",
    "To calculate the distances between nodes, the Euclidean distance formula was used and then round the results to the nearest integer. As suggested, the distances between the nodes were calculated after loading the data and placed in a matrix, so that during the subsequent evaluation of the problem, it was only necessary to read these values which reduced the cost of the operation of the algorithm.\n",
    "\n",
    "To solve the problem the multiple start local search and iterated local search were used."
   ]
  },
  {
   "cell_type": "markdown",
   "metadata": {
    "id": "eXwJo02J9haN"
   },
   "source": [
    "## 2. Pseudocode of all implemented algorithms"
   ]
  },
  {
   "cell_type": "markdown",
   "metadata": {},
   "source": [
    "### 2.1 Multiple start local search\n",
    "\n",
    "```\n",
    "def multiple_start_local_search(local_search, number_of_starts, nodes, distances):\n",
    "    best_solution = None\n",
    "    best_score = +inf\n",
    "\n",
    "    for i in range(0, number_of_starts):\n",
    "        solution = random_solution()\n",
    "        solution = local_search.improve(solution, nodes, distances)\n",
    "        score = evaluate(solution, nodes, distances)\n",
    "        if score < best_score:\n",
    "            best_score = score\n",
    "            best_solution = solution\n",
    "    return best_solution\n",
    "```\n",
    "\n",
    "### 2.2 Iterated local search\n",
    "\n",
    "```\n",
    "def perturb(solution, nodes, perturbation_size):\n",
    "    for _ in range(0, perturbation_size):\n",
    "        if random() < 0.5:\n",
    "            solution = swapEdge(solution, randint(0, len(solution) - 1), randint(0, len(solution) - 1))\n",
    "        else:\n",
    "            nodes_outside_solution = [node for node in range(0, len(nodes)) if node not in solution]\n",
    "            solution = replaceNode(solution, randint(0, len(solution) - 1), randint(0, len(solution) - 1))\n",
    "    return solution\n",
    "\n",
    "\n",
    "def iterated_local_search(local_search, max_time, perturbation_size, nodes, distances):\n",
    "    start_time = time.time()\n",
    "    best_solution = None\n",
    "    best_score = +inf\n",
    "\n",
    "    solution = local_search.improve(random_solution(), nodes, distances)\n",
    "    while current_time() - start_time < max_time:\n",
    "        peturbed_solution = perturb(solution, nodes, perturbation_size)\n",
    "        peturbed_solution = local_search.improve(peturbed_solution, nodes, distances)\n",
    "        score = evaluate(peturbed_solution, nodes, distances)\n",
    "        if score < best_score:\n",
    "            best_score = score\n",
    "            best_solution = solution\n",
    "        if score < evaluate(solution, nodes, distances):\n",
    "            solution = peturbed_solution\n",
    "    return best_solution\n",
    "```"
   ]
  },
  {
   "cell_type": "markdown",
   "metadata": {
    "id": "yuHHtRw49haO"
   },
   "source": [
    "## 3. Results of the computational experiments"
   ]
  },
  {
   "cell_type": "code",
   "execution_count": null,
   "metadata": {
    "id": "UhyuKXc79haP"
   },
   "outputs": [],
   "source": [
    "import json\n",
    "import pathlib\n",
    "import itertools\n",
    "\n",
    "import numpy as np\n",
    "import matplotlib.pyplot as plt\n",
    "\n",
    "import pandas as pd\n",
    "from common import *"
   ]
  },
  {
   "cell_type": "code",
   "execution_count": null,
   "metadata": {
    "id": "kmY2J3gW9haQ"
   },
   "outputs": [],
   "source": [
    "DATA_FOLDER = '../data/'\n",
    "OLD_RESULTS_FOLDER = f'{DATA_FOLDER}old_results/'\n",
    "RESULT_FOLDER = f'{DATA_FOLDER}results/'\n",
    "INSTANCE_FOLDER = f'{DATA_FOLDER}tsp_instances/'\n",
    "\n",
    "SOLVERS = {\n",
    "    \"lsm-r\" : \"Steepest Multi Start LS\",\n",
    "    \"lsi-3-r\" : \"Iterated LS (Perturbation size 3)\",\n",
    "    \"lsi-5-r\" : \"Iterated LS (Perturbation size 5)\",\n",
    "    \"lsi-10-r\" : \"Iterated LS (Perturbation size 10)\",\n",
    "    \"lsi-20-r\" : \"Iterated LS (Perturbation size 20)\",\n",
    "    \"lsi-30-r\" : \"Iterated LS (Perturbation size 30)\",\n",
    "    \"lsi-50-r\" : \"Iterated LS (Perturbation size 50)\",\n",
    "}\n",
    "\n",
    "OLD_SOLVERS = {\n",
    "    \"lsp-r\" : \"Steepest LS (delta reusing)\",\n",
    "}\n",
    "SOLVERS = {**OLD_SOLVERS, **SOLVERS}\n",
    "SOLVERS_TO_PLOT = SOLVERS.copy()\n",
    "NUM_NODES = 200\n",
    "\n",
    "instance_files = [path for path in pathlib.Path(INSTANCE_FOLDER).iterdir() if path.is_file()]\n",
    "instance_names = [path.name[:4] for path in instance_files]\n",
    "p_sizes = [3, 5, 10, 20, 30, 50]"
   ]
  },
  {
   "cell_type": "code",
   "execution_count": null,
   "metadata": {
    "id": "mR3Bfr4w9haQ"
   },
   "outputs": [],
   "source": [
    "instances_data = {\n",
    "    name: read_instance(f'{INSTANCE_FOLDER}{name}.csv')\n",
    "    for name in instance_names\n",
    "}"
   ]
  },
  {
   "cell_type": "code",
   "execution_count": null,
   "metadata": {
    "id": "jcmhV8nH9haQ"
   },
   "outputs": [],
   "source": [
    "instances_solvers_pairs = itertools.product(instances_data.keys(), SOLVERS.keys())\n",
    "\n",
    "all_results = {}\n",
    "all_costs = {}\n",
    "all_times = {}\n",
    "all_stats = {}\n",
    "\n",
    "for instance, solver in instances_solvers_pairs:\n",
    "    all_results[instance] = all_results.get(instance, {})\n",
    "    all_costs[instance] = all_costs.get(instance, {})\n",
    "    all_times[instance] = all_times.get(instance, {})\n",
    "    all_stats[instance] = all_stats.get(instance, {})\n",
    "    costs = []\n",
    "    times = []\n",
    "    paring_results = []\n",
    "    file_number = NUM_NODES if solver in OLD_SOLVERS else 20\n",
    "    for idx in range(file_number):\n",
    "        folder = OLD_RESULTS_FOLDER if solver in OLD_SOLVERS else RESULT_FOLDER\n",
    "        solution, cost, time = read_solution(f'{folder}{instance}-{solver}-{idx}.txt')\n",
    "        paring_results.append(solution)\n",
    "        costs.append(cost)\n",
    "        times.append(time)\n",
    "    all_results[instance][solver] = np.array(paring_results)\n",
    "    all_costs[instance][solver] = np.array(costs)\n",
    "    all_stats[instance][solver] = {\n",
    "        'mean': np.mean(costs),\n",
    "        'std': np.std(costs),\n",
    "        'min': np.min(costs),\n",
    "        'max': np.max(costs),\n",
    "    }\n",
    "    all_times[instance][solver] = {\n",
    "        'mean': np.mean(times),\n",
    "        'std': np.std(times),\n",
    "        'min': np.min(times),\n",
    "        'max': np.max(times),\n",
    "    }"
   ]
  },
  {
   "cell_type": "code",
   "execution_count": null,
   "metadata": {
    "id": "5zy6WhlM9haR"
   },
   "outputs": [],
   "source": [
    "costs_df = pd.DataFrame(all_stats).T\n",
    "time_df = pd.DataFrame(all_times).T\n",
    "max_df = pd.DataFrame(all_stats).T\n",
    "min_df = pd.DataFrame(all_stats).T\n",
    "mean_time_df = pd.DataFrame(all_times).T\n",
    "\n",
    "for column in SOLVERS.keys():\n",
    "    costs_df[column] = costs_df[column].apply(lambda x: f'{x[\"mean\"]:.0f} ({x[\"min\"]:.0f} - {x[\"max\"]:.0f})')\n",
    "    time_df[column] = time_df[column].apply(lambda x: f'{x[\"mean\"]/1000000:.2f} ({x[\"min\"]/1000000:.2f} - {x[\"max\"]/1000000:.2f})')\n",
    "    max_df[column] = max_df[column].apply(lambda x: x['max'])\n",
    "    min_df[column] = min_df[column].apply(lambda x: x['min'])\n",
    "    mean_time_df[column] = mean_time_df[column].apply(lambda x: x['mean']/1000000)\n",
    "\n",
    "for df in [costs_df, time_df, max_df, min_df, mean_time_df]:\n",
    "    df.rename(columns=SOLVERS, inplace=True)\n",
    "time_df = time_df.filter(items = SOLVERS_TO_PLOT.values())\n",
    "mean_time_df = mean_time_df.filter(items  = SOLVERS_TO_PLOT.values())"
   ]
  },
  {
   "cell_type": "markdown",
   "metadata": {
    "id": "Wo5of3599haR"
   },
   "source": [
    "### 3.1. Visualizations and statistics of cost for all dataset-algorithm pairs\n",
    "\n",
    "In tabular form we present the Mean, Minimum and Maximum of the results of the algorithms for each dataset."
   ]
  },
  {
   "cell_type": "code",
   "execution_count": null,
   "metadata": {
    "id": "GhTk45H69haR"
   },
   "outputs": [],
   "source": [
    "print(\"Mean (min-max) of the costs:\")\n",
    "\n",
    "best_means = {\n",
    "    instance: min(all_stats[instance][solver]['mean'] for solver in SOLVERS.keys())\n",
    "    for instance in instance_names\n",
    "}\n",
    "\n",
    "def apply_style(v: str, best_val: float):\n",
    "    num = v.split()[0]\n",
    "    try:\n",
    "        num = float(num)\n",
    "    except ValueError:\n",
    "        return \"\"\n",
    "    if round(num) == round(best_val):\n",
    "        return \"font-weight: bold; color: red\"\n",
    "    return \"\"\n",
    "    \n",
    "\n",
    "\n",
    "costs_df.T.style.apply(lambda x: [\n",
    "    apply_style(v, best_means[x.index[i]])\n",
    "    for i, v in enumerate(x)\n",
    "], axis = 1)"
   ]
  },
  {
   "cell_type": "markdown",
   "metadata": {},
   "source": [
    "### 3.2 Mean number of iterations for each ILS-Instance pair"
   ]
  },
  {
   "cell_type": "code",
   "execution_count": null,
   "metadata": {},
   "outputs": [],
   "source": [
    "with open(f'{DATA_FOLDER}iterations.json', 'r') as f:\n",
    "    iterations = json.load(f)\n",
    "\n",
    "iterations_matrix = {\n",
    "    instance: {\n",
    "        size: iterations[f\"{instance}-{size}\"]\n",
    "        for size in p_sizes\n",
    "    } for instance in instance_names\n",
    "}\n",
    "it_df = pd.DataFrame(iterations_matrix)\n",
    "it_df.index = [f'Number of operations in perturbation = {x}' for x in it_df.index]\n",
    "it_df"
   ]
  },
  {
   "cell_type": "markdown",
   "metadata": {},
   "source": [
    " ### 3.3. Visualizations and statistics of running times for all dataset-algorithm pairs"
   ]
  },
  {
   "cell_type": "code",
   "execution_count": null,
   "metadata": {},
   "outputs": [],
   "source": [
    "print(\"Mean (min-max) of the time [s]:\")\n",
    "\n",
    "best_times = {\n",
    "    instance: min(all_times[instance][solver]['mean'] for solver in SOLVERS.keys()) /1000000\n",
    "    for instance in instance_names\n",
    "}\n",
    "\n",
    "def apply_style(v: str, best_val: float):\n",
    "    num = v.split()[0]\n",
    "    try:\n",
    "        num = float(num)\n",
    "    except ValueError:\n",
    "        return \"\"\n",
    "    if round(num) == round(best_val):\n",
    "        return \"font-weight: bold; color: red\"\n",
    "    return \"\"\n",
    "    \n",
    "\n",
    "\n",
    "time_df.T.style.apply(lambda x: [\n",
    "    apply_style(v, best_times[x.index[i]])\n",
    "    for i, v in enumerate(x)\n",
    "], axis = 1)"
   ]
  },
  {
   "cell_type": "code",
   "execution_count": null,
   "metadata": {},
   "outputs": [],
   "source": [
    "x_range = np.arange(len(SOLVERS_TO_PLOT))\n",
    "bar_width = 0.8 / len(instances_data.keys())\n",
    "mean_time_plot_df = mean_time_df.T.sort_values(by=\"TSPA\", ascending=False).T\n",
    "fig, ax = plt.subplots(figsize=(15, 8), sharey=True)\n",
    "for idx, instance in enumerate(instances_data.keys()):\n",
    "     ax.bar(\n",
    "          x_range + idx * bar_width,\n",
    "          height=mean_time_plot_df.loc[instance].values,\n",
    "          width=bar_width,\n",
    "          label=instance,\n",
    "     )\n",
    "ax.set_xticks(x_range + bar_width * (len(instances_data.keys()) - 1) / 2)\n",
    "ax.set_xticklabels(mean_time_plot_df.columns, rotation=45, ha='right')\n",
    "plt.title('Time per instance per solver')\n",
    "plt.ylabel('Running Time [s]')\n",
    "plt.legend()\n",
    "plt.show()\n"
   ]
  },
  {
   "cell_type": "code",
   "execution_count": null,
   "metadata": {},
   "outputs": [],
   "source": [
    "fig, axs = plt.subplots(1, 2, figsize=(14, 5))\n",
    "\n",
    "for instance in instances_data.keys():\n",
    "    \n",
    "    axs[0].plot(\n",
    "        p_sizes,\n",
    "        [all_stats[instance][f\"lsi-{n}-r\"]['mean'] for n in p_sizes],\n",
    "        label=instance,\n",
    "        marker='o', \n",
    "        linestyle='dashed'\n",
    "    )\n",
    "    axs[1].plot(\n",
    "        p_sizes,\n",
    "        [iterations_matrix[instance][n] for n in p_sizes],\n",
    "        label=instance,\n",
    "        marker='o', \n",
    "        linestyle='dashed'\n",
    "    )\n",
    "\n",
    "axs[0].set_title('Mean cost of Iterated LS per size of perturbations')\n",
    "axs[0].set_xlabel('Number of perturbations')\n",
    "axs[0].set_ylabel('Mean cost')\n",
    "\n",
    "axs[1].set_title('Mean number of iterations of Iterated LS per size of perturbations')\n",
    "axs[1].set_xlabel('Number of perturbations')\n",
    "axs[1].set_ylabel('Number of iterations')\n",
    "\n",
    "plt.legend()\n",
    "plt.show()"
   ]
  },
  {
   "cell_type": "markdown",
   "metadata": {
    "id": "9FgpBbE19haS"
   },
   "source": [
    "## 4. Best solutions for all datasets and algorithms\n",
    "\n",
    "To more easily compare the results, we present the best solutions for each dataset side by side.\n",
    "\n",
    "The weight of each node is denoted both by its size and color. The bigger and brighter the node, the higher its weight."
   ]
  },
  {
   "cell_type": "markdown",
   "metadata": {},
   "source": [
    "### 4.1 New algortithms"
   ]
  },
  {
   "cell_type": "code",
   "execution_count": null,
   "metadata": {
    "id": "7Gqoff_69haS"
   },
   "outputs": [],
   "source": [
    "for solver_idx, solver in enumerate(SOLVERS.keys()):\n",
    "    fig, axs = plt.subplots(1, 4, figsize=(20, 5))\n",
    "    for idx, instance in enumerate(instances_data.keys()):\n",
    "        best_instance_idx = np.argmin(all_costs[instance][solver])\n",
    "        plot_solution_for_instance(instances_data[instance], all_results[instance][solver][best_instance_idx], axs[idx])\n",
    "        axs[idx].set_title(f'{instance}: {all_costs[instance][solver][best_instance_idx]:.0f}')\n",
    "    fig.suptitle(f'{SOLVERS[solver]}', fontsize=16, y=1.05)\n",
    "plt.show()"
   ]
  },
  {
   "cell_type": "markdown",
   "metadata": {},
   "source": [
    "### 4.2 Best solution for each instance from all algorithms"
   ]
  },
  {
   "cell_type": "code",
   "execution_count": null,
   "metadata": {},
   "outputs": [],
   "source": [
    "fig, axs = plt.subplots(1, 4, figsize=(20, 5))\n",
    "for idx, instance in enumerate(instances_data.keys()):\n",
    "    best_cost =  np.inf\n",
    "    for solver_idx, solver in enumerate(SOLVERS.keys()):\n",
    "         if best_cost > np.min(all_costs[instance][solver]):\n",
    "                best_cost = np.min(all_costs[instance][solver])\n",
    "                best_result = all_results[instance][solver][np.argmin(all_costs[instance][solver])], \n",
    "                best_solver = solver\n",
    "    best_instance_idx = np.argmin(all_costs[instance][best_solver])\n",
    "    plot_solution_for_instance(instances_data[instance], all_results[instance][best_solver][best_instance_idx], axs[idx])\n",
    "    axs[idx].set_title(f'{instance}: {all_costs[instance][best_solver][best_instance_idx]:.0f}')\n",
    "    print(instance)\n",
    "    print(f'\\tSolver: {SOLVERS[best_solver]}, Total cost: {best_cost}')\n",
    "    nodes = list(best_result[0])\n",
    "    if 0 in best_result[0]:\n",
    "        zero_index = np.where(best_result[0] == 0)[0][0]\n",
    "        nodes = list(best_result[0][zero_index:])+list(best_result[0][:zero_index])\n",
    "    print(f'\\t Nodes: {nodes}\\n')\n",
    "plt.show()"
   ]
  },
  {
   "cell_type": "markdown",
   "metadata": {
    "id": "9YttFbeZ9haS"
   },
   "source": [
    "## 5. Source Code\n",
    "\n",
    "[GitHub](https://github.com/Tremirre/ECP)"
   ]
  },
  {
   "cell_type": "markdown",
   "metadata": {
    "id": "14ZLJh009haS"
   },
   "source": [
    "## 6. Conclusions\n",
    "\n"
   ]
  },
  {
   "cell_type": "markdown",
   "metadata": {},
   "source": [
    "Analyzing the results and visualizations, one can come to several conclusions about the algorithms used in the task:\n",
    "- Both Steepest Multi Start Local Search and Iterated Local Search outperform all previously used algorithms, at the cost of much longer running time.\n",
    "- The average Multi Start Local Search running time varies widely, ranging from 5 seconds for the TSPD to 10 seconds for the TSPA (taking into account the minimum and maximum times, this is a quadruple difference from almost 4 to over 16 seconds)\n",
    "- As the size of the perturbation increases, the number of iterations in Iterated LS decreases, but it does not automatically translate into a better result - optimal perturbation size has been found as ca. 10-20 operations.\n",
    "- Regardless of perturbation size, the Iterated LS yields better results than the Multi Start LS, but the difference is not significant (does not exceed 3% of MSLS cost)\n"
   ]
  }
 ],
 "metadata": {
  "colab": {
   "provenance": []
  },
  "kernelspec": {
   "display_name": "Python 3 (ipykernel)",
   "language": "python",
   "name": "python3"
  },
  "language_info": {
   "codemirror_mode": {
    "name": "ipython",
    "version": 3
   },
   "file_extension": ".py",
   "mimetype": "text/x-python",
   "name": "python",
   "nbconvert_exporter": "python",
   "pygments_lexer": "ipython3",
   "version": "3.10.4"
  }
 },
 "nbformat": 4,
 "nbformat_minor": 1
}
